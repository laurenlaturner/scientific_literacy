{
 "cells": [
  {
   "cell_type": "markdown",
   "metadata": {},
   "source": [
    "# COOL TITLE\n",
    "**Author:** Lauren Heaps\n",
    "**Date:** June 2025\n",
    "\n",
    "## Overview\n",
    "Something very cool and descriptive"
   ]
  },
  {
   "cell_type": "code",
   "execution_count": 3,
   "metadata": {
    "vscode": {
     "languageId": "r"
    }
   },
   "outputs": [
    {
     "name": "stderr",
     "output_type": "stream",
     "text": [
      "\n",
      "Attaching package: 'effsize'\n",
      "\n",
      "\n",
      "The following object is masked from 'package:psych':\n",
      "\n",
      "    cohen.d\n",
      "\n",
      "\n",
      "\n",
      "Attaching package: 'ggplot2'\n",
      "\n",
      "\n",
      "The following objects are masked from 'package:psych':\n",
      "\n",
      "    %+%, alpha\n",
      "\n",
      "\n",
      "Loading required package: Matrix\n",
      "\n",
      "Loading required package: carData\n",
      "\n",
      "\n",
      "Attaching package: 'car'\n",
      "\n",
      "\n",
      "The following object is masked from 'package:psych':\n",
      "\n",
      "    logit\n",
      "\n",
      "\n",
      "The following object is masked from 'package:dplyr':\n",
      "\n",
      "    recode\n",
      "\n",
      "\n"
     ]
    }
   ],
   "source": [
    "# Data Import\n",
    "library(readxl)         # To read Excel files\n",
    "\n",
    "# Data Manipulation\n",
    "library(dplyr)          # Data transformation (mutate, filter, etc.)\n",
    "\n",
    "# Descriptive Statistics\n",
    "library(psych)          # Descriptive statistics (mean, sd, describe, etc.)\n",
    "library(effsize)        # Effect size metrics (e.g., Cohen's d)\n",
    "\n",
    "# Visualization\n",
    "library(ggplot2)        # Data visualization\n",
    "\n",
    "# Regression & Modeling\n",
    "library(betareg)        # Beta regression (standard)\n",
    "library(glmmTMB)        # Generalized linear mixed models (incl. beta regression)\n",
    "library(lme4)           # Linear and generalized mixed-effects models\n",
    "\n",
    "# Model Evaluation & Diagnostics\n",
    "library(car)            # Diagnostic tools (e.g., VIF, residual plots)\n",
    "library(performance)    # Pseudo R², ICC, residual checks, etc.\n",
    "library(MuMIn)          # Model selection (AIC, dredge)"
   ]
  },
  {
   "cell_type": "markdown",
   "metadata": {},
   "source": [
    "## Data\n",
    "Nice little paragraph about the data."
   ]
  },
  {
   "cell_type": "code",
   "execution_count": 9,
   "metadata": {
    "vscode": {
     "languageId": "r"
    }
   },
   "outputs": [
    {
     "data": {
      "text/html": [
       "<table class=\"dataframe\">\n",
       "<caption>A psych: 22 × 13</caption>\n",
       "<thead>\n",
       "\t<tr><th></th><th scope=col>vars</th><th scope=col>n</th><th scope=col>mean</th><th scope=col>sd</th><th scope=col>median</th><th scope=col>trimmed</th><th scope=col>mad</th><th scope=col>min</th><th scope=col>max</th><th scope=col>range</th><th scope=col>skew</th><th scope=col>kurtosis</th><th scope=col>se</th></tr>\n",
       "\t<tr><th></th><th scope=col>&lt;int&gt;</th><th scope=col>&lt;dbl&gt;</th><th scope=col>&lt;dbl&gt;</th><th scope=col>&lt;dbl&gt;</th><th scope=col>&lt;dbl&gt;</th><th scope=col>&lt;dbl&gt;</th><th scope=col>&lt;dbl&gt;</th><th scope=col>&lt;dbl&gt;</th><th scope=col>&lt;dbl&gt;</th><th scope=col>&lt;dbl&gt;</th><th scope=col>&lt;dbl&gt;</th><th scope=col>&lt;dbl&gt;</th><th scope=col>&lt;dbl&gt;</th></tr>\n",
       "</thead>\n",
       "<tbody>\n",
       "\t<tr><th scope=row>ID</th><td> 1</td><td>399</td><td>200.000000</td><td>115.3256259</td><td>200.000</td><td>200.000000</td><td>148.260000</td><td>1.0</td><td>399</td><td>398.0</td><td> 0.00000000</td><td>-1.2090262</td><td>5.77350269</td></tr>\n",
       "\t<tr><th scope=row>Section</th><td> 2</td><td>399</td><td>  2.588972</td><td>  0.4926380</td><td>  3.000</td><td>  2.610592</td><td>  0.000000</td><td>2.0</td><td>  3</td><td>  1.0</td><td>-0.36030290</td><td>-1.8748619</td><td>0.02466275</td></tr>\n",
       "\t<tr><th scope=row>pre TOSLS score</th><td> 3</td><td>398</td><td> 16.082915</td><td>  5.3493246</td><td> 16.000</td><td> 16.268750</td><td>  5.930400</td><td>0.0</td><td> 27</td><td> 27.0</td><td>-0.31224792</td><td>-0.3908002</td><td>0.26813742</td></tr>\n",
       "\t<tr><th scope=row>pre SELF -  Q1</th><td> 4</td><td>397</td><td>  3.629723</td><td>  0.7794217</td><td>  4.000</td><td>  3.617555</td><td>  1.482600</td><td>0.0</td><td>  5</td><td>  5.0</td><td>-0.40224669</td><td> 0.9425843</td><td>0.03911805</td></tr>\n",
       "\t<tr><th scope=row>pre SELF -  Q2</th><td> 5</td><td>397</td><td>  3.435768</td><td>  0.9369142</td><td>  4.000</td><td>  3.454545</td><td>  1.482600</td><td>1.0</td><td>  5</td><td>  4.0</td><td>-0.37453194</td><td>-0.1436378</td><td>0.04702238</td></tr>\n",
       "\t<tr><th scope=row>pre SELF -  Q3</th><td> 6</td><td>397</td><td>  4.037783</td><td>  0.7920585</td><td>  4.000</td><td>  4.103448</td><td>  0.000000</td><td>1.0</td><td>  5</td><td>  4.0</td><td>-0.73595038</td><td> 0.7172071</td><td>0.03975228</td></tr>\n",
       "\t<tr><th scope=row>pre SELF -  Q4</th><td> 7</td><td>397</td><td>  3.634761</td><td>  0.8134605</td><td>  4.000</td><td>  3.642633</td><td>  1.482600</td><td>1.0</td><td>  5</td><td>  4.0</td><td>-0.22711892</td><td>-0.1507906</td><td>0.04082641</td></tr>\n",
       "\t<tr><th scope=row>pre SELF -  Q5</th><td> 8</td><td>397</td><td>  3.450882</td><td>  0.8851927</td><td>  3.000</td><td>  3.451411</td><td>  1.482600</td><td>1.0</td><td>  5</td><td>  4.0</td><td>-0.13474916</td><td>-0.3783282</td><td>0.04442655</td></tr>\n",
       "\t<tr><th scope=row>pre SELF -  Q6</th><td> 9</td><td>397</td><td>  3.430730</td><td>  0.9838918</td><td>  3.000</td><td>  3.442006</td><td>  1.482600</td><td>1.0</td><td>  5</td><td>  4.0</td><td>-0.16418131</td><td>-0.5067559</td><td>0.04938012</td></tr>\n",
       "\t<tr><th scope=row>pre SELF -  Q7</th><td>10</td><td>397</td><td>  3.201511</td><td>  0.9264343</td><td>  3.000</td><td>  3.194357</td><td>  1.482600</td><td>1.0</td><td>  5</td><td>  4.0</td><td>-0.06562854</td><td>-0.4517346</td><td>0.04649641</td></tr>\n",
       "\t<tr><th scope=row>pre SELF -  Q8</th><td>11</td><td>397</td><td>  3.181360</td><td>  1.0236374</td><td>  3.000</td><td>  3.159875</td><td>  1.482600</td><td>1.0</td><td>  5</td><td>  4.0</td><td>-0.05666704</td><td>-0.5700486</td><td>0.05137489</td></tr>\n",
       "\t<tr><th scope=row>pre SELF average</th><td>12</td><td>397</td><td>  3.500315</td><td>  0.5523065</td><td>  3.500</td><td>  3.505878</td><td>  0.555975</td><td>1.5</td><td>  5</td><td>  3.5</td><td>-0.15936260</td><td> 0.5139867</td><td>0.02771947</td></tr>\n",
       "\t<tr><th scope=row>post TOSLS score</th><td>13</td><td>320</td><td> 18.440625</td><td>  5.0851286</td><td> 19.000</td><td> 18.902344</td><td>  5.930400</td><td>0.0</td><td> 27</td><td> 27.0</td><td>-0.76819955</td><td> 0.2596799</td><td>0.28426733</td></tr>\n",
       "\t<tr><th scope=row>post SELF -  Q1</th><td>14</td><td>366</td><td>  4.043716</td><td>  0.7314848</td><td>  4.000</td><td>  4.091837</td><td>  0.000000</td><td>0.0</td><td>  5</td><td>  5.0</td><td>-0.98878184</td><td> 3.2081676</td><td>0.03823532</td></tr>\n",
       "\t<tr><th scope=row>post SELF -  Q2</th><td>15</td><td>366</td><td>  4.139344</td><td>  0.8140772</td><td>  4.000</td><td>  4.221088</td><td>  1.482600</td><td>0.0</td><td>  5</td><td>  5.0</td><td>-1.01848579</td><td> 1.9815789</td><td>0.04255250</td></tr>\n",
       "\t<tr><th scope=row>post SELF -  Q3</th><td>16</td><td>366</td><td>  4.396175</td><td>  0.7649060</td><td>  5.000</td><td>  4.530612</td><td>  0.000000</td><td>0.0</td><td>  5</td><td>  5.0</td><td>-1.60914870</td><td> 4.2676538</td><td>0.03998228</td></tr>\n",
       "\t<tr><th scope=row>post SELF -  Q4</th><td>17</td><td>366</td><td>  4.125683</td><td>  0.8213230</td><td>  4.000</td><td>  4.197279</td><td>  1.482600</td><td>0.0</td><td>  5</td><td>  5.0</td><td>-0.85592257</td><td> 1.2740380</td><td>0.04293124</td></tr>\n",
       "\t<tr><th scope=row>post SELF -  Q5</th><td>18</td><td>366</td><td>  4.046448</td><td>  0.8855157</td><td>  4.000</td><td>  4.115646</td><td>  1.482600</td><td>0.0</td><td>  5</td><td>  5.0</td><td>-0.75123885</td><td> 0.6560277</td><td>0.04628665</td></tr>\n",
       "\t<tr><th scope=row>post SELF -  Q6</th><td>19</td><td>366</td><td>  4.114754</td><td>  0.9053575</td><td>  4.000</td><td>  4.217687</td><td>  1.482600</td><td>0.0</td><td>  5</td><td>  5.0</td><td>-1.08815062</td><td> 1.5707710</td><td>0.04732379</td></tr>\n",
       "\t<tr><th scope=row>post SELF -  Q7</th><td>20</td><td>366</td><td>  3.937158</td><td>  0.8875928</td><td>  4.000</td><td>  4.003401</td><td>  1.482600</td><td>0.0</td><td>  5</td><td>  5.0</td><td>-0.83889138</td><td> 1.2269925</td><td>0.04639522</td></tr>\n",
       "\t<tr><th scope=row>post SELF -  Q8</th><td>21</td><td>366</td><td>  3.953552</td><td>  0.9008525</td><td>  4.000</td><td>  4.030612</td><td>  1.482600</td><td>0.0</td><td>  5</td><td>  5.0</td><td>-0.73881948</td><td> 0.6028106</td><td>0.04708832</td></tr>\n",
       "\t<tr><th scope=row>post SELF average</th><td>22</td><td>366</td><td>  4.094604</td><td>  0.6048236</td><td>  4.125</td><td>  4.133078</td><td>  0.555975</td><td>0.0</td><td>  5</td><td>  5.0</td><td>-1.63209361</td><td> 7.5239367</td><td>0.03161463</td></tr>\n",
       "</tbody>\n",
       "</table>\n"
      ],
      "text/latex": [
       "A psych: 22 × 13\n",
       "\\begin{tabular}{r|lllllllllllll}\n",
       "  & vars & n & mean & sd & median & trimmed & mad & min & max & range & skew & kurtosis & se\\\\\n",
       "  & <int> & <dbl> & <dbl> & <dbl> & <dbl> & <dbl> & <dbl> & <dbl> & <dbl> & <dbl> & <dbl> & <dbl> & <dbl>\\\\\n",
       "\\hline\n",
       "\tID &  1 & 399 & 200.000000 & 115.3256259 & 200.000 & 200.000000 & 148.260000 & 1.0 & 399 & 398.0 &  0.00000000 & -1.2090262 & 5.77350269\\\\\n",
       "\tSection &  2 & 399 &   2.588972 &   0.4926380 &   3.000 &   2.610592 &   0.000000 & 2.0 &   3 &   1.0 & -0.36030290 & -1.8748619 & 0.02466275\\\\\n",
       "\tpre TOSLS score &  3 & 398 &  16.082915 &   5.3493246 &  16.000 &  16.268750 &   5.930400 & 0.0 &  27 &  27.0 & -0.31224792 & -0.3908002 & 0.26813742\\\\\n",
       "\tpre SELF -  Q1 &  4 & 397 &   3.629723 &   0.7794217 &   4.000 &   3.617555 &   1.482600 & 0.0 &   5 &   5.0 & -0.40224669 &  0.9425843 & 0.03911805\\\\\n",
       "\tpre SELF -  Q2 &  5 & 397 &   3.435768 &   0.9369142 &   4.000 &   3.454545 &   1.482600 & 1.0 &   5 &   4.0 & -0.37453194 & -0.1436378 & 0.04702238\\\\\n",
       "\tpre SELF -  Q3 &  6 & 397 &   4.037783 &   0.7920585 &   4.000 &   4.103448 &   0.000000 & 1.0 &   5 &   4.0 & -0.73595038 &  0.7172071 & 0.03975228\\\\\n",
       "\tpre SELF -  Q4 &  7 & 397 &   3.634761 &   0.8134605 &   4.000 &   3.642633 &   1.482600 & 1.0 &   5 &   4.0 & -0.22711892 & -0.1507906 & 0.04082641\\\\\n",
       "\tpre SELF -  Q5 &  8 & 397 &   3.450882 &   0.8851927 &   3.000 &   3.451411 &   1.482600 & 1.0 &   5 &   4.0 & -0.13474916 & -0.3783282 & 0.04442655\\\\\n",
       "\tpre SELF -  Q6 &  9 & 397 &   3.430730 &   0.9838918 &   3.000 &   3.442006 &   1.482600 & 1.0 &   5 &   4.0 & -0.16418131 & -0.5067559 & 0.04938012\\\\\n",
       "\tpre SELF -  Q7 & 10 & 397 &   3.201511 &   0.9264343 &   3.000 &   3.194357 &   1.482600 & 1.0 &   5 &   4.0 & -0.06562854 & -0.4517346 & 0.04649641\\\\\n",
       "\tpre SELF -  Q8 & 11 & 397 &   3.181360 &   1.0236374 &   3.000 &   3.159875 &   1.482600 & 1.0 &   5 &   4.0 & -0.05666704 & -0.5700486 & 0.05137489\\\\\n",
       "\tpre SELF average & 12 & 397 &   3.500315 &   0.5523065 &   3.500 &   3.505878 &   0.555975 & 1.5 &   5 &   3.5 & -0.15936260 &  0.5139867 & 0.02771947\\\\\n",
       "\tpost TOSLS score & 13 & 320 &  18.440625 &   5.0851286 &  19.000 &  18.902344 &   5.930400 & 0.0 &  27 &  27.0 & -0.76819955 &  0.2596799 & 0.28426733\\\\\n",
       "\tpost SELF -  Q1 & 14 & 366 &   4.043716 &   0.7314848 &   4.000 &   4.091837 &   0.000000 & 0.0 &   5 &   5.0 & -0.98878184 &  3.2081676 & 0.03823532\\\\\n",
       "\tpost SELF -  Q2 & 15 & 366 &   4.139344 &   0.8140772 &   4.000 &   4.221088 &   1.482600 & 0.0 &   5 &   5.0 & -1.01848579 &  1.9815789 & 0.04255250\\\\\n",
       "\tpost SELF -  Q3 & 16 & 366 &   4.396175 &   0.7649060 &   5.000 &   4.530612 &   0.000000 & 0.0 &   5 &   5.0 & -1.60914870 &  4.2676538 & 0.03998228\\\\\n",
       "\tpost SELF -  Q4 & 17 & 366 &   4.125683 &   0.8213230 &   4.000 &   4.197279 &   1.482600 & 0.0 &   5 &   5.0 & -0.85592257 &  1.2740380 & 0.04293124\\\\\n",
       "\tpost SELF -  Q5 & 18 & 366 &   4.046448 &   0.8855157 &   4.000 &   4.115646 &   1.482600 & 0.0 &   5 &   5.0 & -0.75123885 &  0.6560277 & 0.04628665\\\\\n",
       "\tpost SELF -  Q6 & 19 & 366 &   4.114754 &   0.9053575 &   4.000 &   4.217687 &   1.482600 & 0.0 &   5 &   5.0 & -1.08815062 &  1.5707710 & 0.04732379\\\\\n",
       "\tpost SELF -  Q7 & 20 & 366 &   3.937158 &   0.8875928 &   4.000 &   4.003401 &   1.482600 & 0.0 &   5 &   5.0 & -0.83889138 &  1.2269925 & 0.04639522\\\\\n",
       "\tpost SELF -  Q8 & 21 & 366 &   3.953552 &   0.9008525 &   4.000 &   4.030612 &   1.482600 & 0.0 &   5 &   5.0 & -0.73881948 &  0.6028106 & 0.04708832\\\\\n",
       "\tpost SELF average & 22 & 366 &   4.094604 &   0.6048236 &   4.125 &   4.133078 &   0.555975 & 0.0 &   5 &   5.0 & -1.63209361 &  7.5239367 & 0.03161463\\\\\n",
       "\\end{tabular}\n"
      ],
      "text/markdown": [
       "\n",
       "A psych: 22 × 13\n",
       "\n",
       "| <!--/--> | vars &lt;int&gt; | n &lt;dbl&gt; | mean &lt;dbl&gt; | sd &lt;dbl&gt; | median &lt;dbl&gt; | trimmed &lt;dbl&gt; | mad &lt;dbl&gt; | min &lt;dbl&gt; | max &lt;dbl&gt; | range &lt;dbl&gt; | skew &lt;dbl&gt; | kurtosis &lt;dbl&gt; | se &lt;dbl&gt; |\n",
       "|---|---|---|---|---|---|---|---|---|---|---|---|---|---|\n",
       "| ID |  1 | 399 | 200.000000 | 115.3256259 | 200.000 | 200.000000 | 148.260000 | 1.0 | 399 | 398.0 |  0.00000000 | -1.2090262 | 5.77350269 |\n",
       "| Section |  2 | 399 |   2.588972 |   0.4926380 |   3.000 |   2.610592 |   0.000000 | 2.0 |   3 |   1.0 | -0.36030290 | -1.8748619 | 0.02466275 |\n",
       "| pre TOSLS score |  3 | 398 |  16.082915 |   5.3493246 |  16.000 |  16.268750 |   5.930400 | 0.0 |  27 |  27.0 | -0.31224792 | -0.3908002 | 0.26813742 |\n",
       "| pre SELF -  Q1 |  4 | 397 |   3.629723 |   0.7794217 |   4.000 |   3.617555 |   1.482600 | 0.0 |   5 |   5.0 | -0.40224669 |  0.9425843 | 0.03911805 |\n",
       "| pre SELF -  Q2 |  5 | 397 |   3.435768 |   0.9369142 |   4.000 |   3.454545 |   1.482600 | 1.0 |   5 |   4.0 | -0.37453194 | -0.1436378 | 0.04702238 |\n",
       "| pre SELF -  Q3 |  6 | 397 |   4.037783 |   0.7920585 |   4.000 |   4.103448 |   0.000000 | 1.0 |   5 |   4.0 | -0.73595038 |  0.7172071 | 0.03975228 |\n",
       "| pre SELF -  Q4 |  7 | 397 |   3.634761 |   0.8134605 |   4.000 |   3.642633 |   1.482600 | 1.0 |   5 |   4.0 | -0.22711892 | -0.1507906 | 0.04082641 |\n",
       "| pre SELF -  Q5 |  8 | 397 |   3.450882 |   0.8851927 |   3.000 |   3.451411 |   1.482600 | 1.0 |   5 |   4.0 | -0.13474916 | -0.3783282 | 0.04442655 |\n",
       "| pre SELF -  Q6 |  9 | 397 |   3.430730 |   0.9838918 |   3.000 |   3.442006 |   1.482600 | 1.0 |   5 |   4.0 | -0.16418131 | -0.5067559 | 0.04938012 |\n",
       "| pre SELF -  Q7 | 10 | 397 |   3.201511 |   0.9264343 |   3.000 |   3.194357 |   1.482600 | 1.0 |   5 |   4.0 | -0.06562854 | -0.4517346 | 0.04649641 |\n",
       "| pre SELF -  Q8 | 11 | 397 |   3.181360 |   1.0236374 |   3.000 |   3.159875 |   1.482600 | 1.0 |   5 |   4.0 | -0.05666704 | -0.5700486 | 0.05137489 |\n",
       "| pre SELF average | 12 | 397 |   3.500315 |   0.5523065 |   3.500 |   3.505878 |   0.555975 | 1.5 |   5 |   3.5 | -0.15936260 |  0.5139867 | 0.02771947 |\n",
       "| post TOSLS score | 13 | 320 |  18.440625 |   5.0851286 |  19.000 |  18.902344 |   5.930400 | 0.0 |  27 |  27.0 | -0.76819955 |  0.2596799 | 0.28426733 |\n",
       "| post SELF -  Q1 | 14 | 366 |   4.043716 |   0.7314848 |   4.000 |   4.091837 |   0.000000 | 0.0 |   5 |   5.0 | -0.98878184 |  3.2081676 | 0.03823532 |\n",
       "| post SELF -  Q2 | 15 | 366 |   4.139344 |   0.8140772 |   4.000 |   4.221088 |   1.482600 | 0.0 |   5 |   5.0 | -1.01848579 |  1.9815789 | 0.04255250 |\n",
       "| post SELF -  Q3 | 16 | 366 |   4.396175 |   0.7649060 |   5.000 |   4.530612 |   0.000000 | 0.0 |   5 |   5.0 | -1.60914870 |  4.2676538 | 0.03998228 |\n",
       "| post SELF -  Q4 | 17 | 366 |   4.125683 |   0.8213230 |   4.000 |   4.197279 |   1.482600 | 0.0 |   5 |   5.0 | -0.85592257 |  1.2740380 | 0.04293124 |\n",
       "| post SELF -  Q5 | 18 | 366 |   4.046448 |   0.8855157 |   4.000 |   4.115646 |   1.482600 | 0.0 |   5 |   5.0 | -0.75123885 |  0.6560277 | 0.04628665 |\n",
       "| post SELF -  Q6 | 19 | 366 |   4.114754 |   0.9053575 |   4.000 |   4.217687 |   1.482600 | 0.0 |   5 |   5.0 | -1.08815062 |  1.5707710 | 0.04732379 |\n",
       "| post SELF -  Q7 | 20 | 366 |   3.937158 |   0.8875928 |   4.000 |   4.003401 |   1.482600 | 0.0 |   5 |   5.0 | -0.83889138 |  1.2269925 | 0.04639522 |\n",
       "| post SELF -  Q8 | 21 | 366 |   3.953552 |   0.9008525 |   4.000 |   4.030612 |   1.482600 | 0.0 |   5 |   5.0 | -0.73881948 |  0.6028106 | 0.04708832 |\n",
       "| post SELF average | 22 | 366 |   4.094604 |   0.6048236 |   4.125 |   4.133078 |   0.555975 | 0.0 |   5 |   5.0 | -1.63209361 |  7.5239367 | 0.03161463 |\n",
       "\n"
      ],
      "text/plain": [
       "                  vars n   mean       sd          median  trimmed    mad       \n",
       "ID                 1   399 200.000000 115.3256259 200.000 200.000000 148.260000\n",
       "Section            2   399   2.588972   0.4926380   3.000   2.610592   0.000000\n",
       "pre TOSLS score    3   398  16.082915   5.3493246  16.000  16.268750   5.930400\n",
       "pre SELF -  Q1     4   397   3.629723   0.7794217   4.000   3.617555   1.482600\n",
       "pre SELF -  Q2     5   397   3.435768   0.9369142   4.000   3.454545   1.482600\n",
       "pre SELF -  Q3     6   397   4.037783   0.7920585   4.000   4.103448   0.000000\n",
       "pre SELF -  Q4     7   397   3.634761   0.8134605   4.000   3.642633   1.482600\n",
       "pre SELF -  Q5     8   397   3.450882   0.8851927   3.000   3.451411   1.482600\n",
       "pre SELF -  Q6     9   397   3.430730   0.9838918   3.000   3.442006   1.482600\n",
       "pre SELF -  Q7    10   397   3.201511   0.9264343   3.000   3.194357   1.482600\n",
       "pre SELF -  Q8    11   397   3.181360   1.0236374   3.000   3.159875   1.482600\n",
       "pre SELF average  12   397   3.500315   0.5523065   3.500   3.505878   0.555975\n",
       "post TOSLS score  13   320  18.440625   5.0851286  19.000  18.902344   5.930400\n",
       "post SELF -  Q1   14   366   4.043716   0.7314848   4.000   4.091837   0.000000\n",
       "post SELF -  Q2   15   366   4.139344   0.8140772   4.000   4.221088   1.482600\n",
       "post SELF -  Q3   16   366   4.396175   0.7649060   5.000   4.530612   0.000000\n",
       "post SELF -  Q4   17   366   4.125683   0.8213230   4.000   4.197279   1.482600\n",
       "post SELF -  Q5   18   366   4.046448   0.8855157   4.000   4.115646   1.482600\n",
       "post SELF -  Q6   19   366   4.114754   0.9053575   4.000   4.217687   1.482600\n",
       "post SELF -  Q7   20   366   3.937158   0.8875928   4.000   4.003401   1.482600\n",
       "post SELF -  Q8   21   366   3.953552   0.9008525   4.000   4.030612   1.482600\n",
       "post SELF average 22   366   4.094604   0.6048236   4.125   4.133078   0.555975\n",
       "                  min max range skew        kurtosis   se        \n",
       "ID                1.0 399 398.0  0.00000000 -1.2090262 5.77350269\n",
       "Section           2.0   3   1.0 -0.36030290 -1.8748619 0.02466275\n",
       "pre TOSLS score   0.0  27  27.0 -0.31224792 -0.3908002 0.26813742\n",
       "pre SELF -  Q1    0.0   5   5.0 -0.40224669  0.9425843 0.03911805\n",
       "pre SELF -  Q2    1.0   5   4.0 -0.37453194 -0.1436378 0.04702238\n",
       "pre SELF -  Q3    1.0   5   4.0 -0.73595038  0.7172071 0.03975228\n",
       "pre SELF -  Q4    1.0   5   4.0 -0.22711892 -0.1507906 0.04082641\n",
       "pre SELF -  Q5    1.0   5   4.0 -0.13474916 -0.3783282 0.04442655\n",
       "pre SELF -  Q6    1.0   5   4.0 -0.16418131 -0.5067559 0.04938012\n",
       "pre SELF -  Q7    1.0   5   4.0 -0.06562854 -0.4517346 0.04649641\n",
       "pre SELF -  Q8    1.0   5   4.0 -0.05666704 -0.5700486 0.05137489\n",
       "pre SELF average  1.5   5   3.5 -0.15936260  0.5139867 0.02771947\n",
       "post TOSLS score  0.0  27  27.0 -0.76819955  0.2596799 0.28426733\n",
       "post SELF -  Q1   0.0   5   5.0 -0.98878184  3.2081676 0.03823532\n",
       "post SELF -  Q2   0.0   5   5.0 -1.01848579  1.9815789 0.04255250\n",
       "post SELF -  Q3   0.0   5   5.0 -1.60914870  4.2676538 0.03998228\n",
       "post SELF -  Q4   0.0   5   5.0 -0.85592257  1.2740380 0.04293124\n",
       "post SELF -  Q5   0.0   5   5.0 -0.75123885  0.6560277 0.04628665\n",
       "post SELF -  Q6   0.0   5   5.0 -1.08815062  1.5707710 0.04732379\n",
       "post SELF -  Q7   0.0   5   5.0 -0.83889138  1.2269925 0.04639522\n",
       "post SELF -  Q8   0.0   5   5.0 -0.73881948  0.6028106 0.04708832\n",
       "post SELF average 0.0   5   5.0 -1.63209361  7.5239367 0.03161463"
      ]
     },
     "metadata": {},
     "output_type": "display_data"
    }
   ],
   "source": [
    "## Load data\n",
    "df <- read_excel(\"C:/Users/laure/Desktop/scientific_literacy/for_jupyter/data.xlsx\",\n",
    "                 sheet=\"Sheet1\")\n",
    "\n",
    "# Descriptive statistics for overall understanding of data\n",
    "describe(df)"
   ]
  },
  {
   "cell_type": "markdown",
   "metadata": {},
   "source": [
    "## Data Cleaning\n",
    "- Removed rows with missing values\n",
    "- Write other goals...."
   ]
  },
  {
   "cell_type": "code",
   "execution_count": null,
   "metadata": {
    "vscode": {
     "languageId": "r"
    }
   },
   "outputs": [],
   "source": [
    "## Now the code"
   ]
  },
  {
   "cell_type": "markdown",
   "metadata": {},
   "source": [
    "## Exploratory Data Analysis\n",
    "We begin by examining the distribution..."
   ]
  },
  {
   "cell_type": "code",
   "execution_count": null,
   "metadata": {
    "vscode": {
     "languageId": "r"
    }
   },
   "outputs": [],
   "source": [
    "## Visualization of the data"
   ]
  }
 ],
 "metadata": {
  "kernelspec": {
   "display_name": "R",
   "language": "R",
   "name": "ir"
  },
  "language_info": {
   "codemirror_mode": "r",
   "file_extension": ".r",
   "mimetype": "text/x-r-source",
   "name": "R",
   "pygments_lexer": "r",
   "version": "4.5.0"
  }
 },
 "nbformat": 4,
 "nbformat_minor": 2
}
